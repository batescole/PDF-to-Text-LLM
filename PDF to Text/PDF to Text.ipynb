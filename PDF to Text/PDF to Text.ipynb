{
 "cells": [
  {
   "cell_type": "code",
   "execution_count": 3,
   "id": "30bea9ee-7f79-4d08-8fc0-27fc6353a413",
   "metadata": {},
   "outputs": [
    {
     "data": {
      "text/plain": [
       "12691"
      ]
     },
     "execution_count": 3,
     "metadata": {},
     "output_type": "execute_result"
    }
   ],
   "source": [
    "import pymupdf4llm\n",
    "import pathlib\n",
    "\n",
    "md_text1 = pymupdf4llm.to_markdown(\"1z0-1110-25-exam-questions-by-simpson.pdf\")\n",
    "md_text2 = pymupdf4llm.to_markdown(\"1z0-1110-25-questions-by-greer.pdf\")\n",
    "md_text3 = pymupdf4llm.to_markdown(\"1z0-1110-25-study-questions-by-fuentes.pdf\")\n",
    "pathlib.Path(\"dsquestions1.md\").write_text(md_text1)\n",
    "pathlib.Path(\"dsquestions2.md\").write_text(md_text2)\n",
    "pathlib.Path(\"dsquestions3.md\").write_text(md_text3)"
   ]
  },
  {
   "cell_type": "code",
   "execution_count": 7,
   "id": "06000852-007b-4a14-b507-34ed086cb790",
   "metadata": {},
   "outputs": [
    {
     "name": "stdout",
     "output_type": "stream",
     "text": [
      "✅ Compiled into final.md\n"
     ]
    }
   ],
   "source": [
    "def clean_text(file_path):\n",
    "    \"\"\"Read a file, remove blank lines, return cleaned text.\"\"\"\n",
    "    text = pathlib.Path(file_path).read_text(encoding=\"utf-8\")\n",
    "    return \"\\n\".join(line for line in text.splitlines() if line.strip())\n",
    "\n",
    "# your input files\n",
    "files = [\"dsquestions1.md\", \"dsquestions2.md\", \"dsquestions3.md\"]\n",
    "\n",
    "# clean each file and concatenate\n",
    "combined_text = \"\\n\\n\".join(clean_text(f) for f in files)\n",
    "\n",
    "# save to final output\n",
    "output_file = \"final.md\"\n",
    "pathlib.Path(output_file).write_text(combined_text, encoding=\"utf-8\")\n",
    "\n",
    "print(f\"✅ Compiled into {output_file}\")"
   ]
  },
  {
   "cell_type": "code",
   "execution_count": null,
   "id": "860cc6c0-4152-4161-aa46-2a67205dbb35",
   "metadata": {},
   "outputs": [],
   "source": []
  }
 ],
 "metadata": {
  "kernelspec": {
   "display_name": "Python 3 (ipykernel)",
   "language": "python",
   "name": "python3"
  },
  "language_info": {
   "codemirror_mode": {
    "name": "ipython",
    "version": 3
   },
   "file_extension": ".py",
   "mimetype": "text/x-python",
   "name": "python",
   "nbconvert_exporter": "python",
   "pygments_lexer": "ipython3",
   "version": "3.13.7"
  }
 },
 "nbformat": 4,
 "nbformat_minor": 5
}
